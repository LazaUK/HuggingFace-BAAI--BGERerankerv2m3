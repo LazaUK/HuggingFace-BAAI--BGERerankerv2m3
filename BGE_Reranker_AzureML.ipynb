{
 "cells": [
  {
   "cell_type": "markdown",
   "metadata": {},
   "source": [
    "# BGE Reranker v2 m3 - Azure ML\n",
    "\n",
    "This notebook demonstrates how to deploy and test the BGE Reranker v2 m3 model from HuggingFace on Azure Machine Learning's managed endpoint."
   ]
  },
  {
   "cell_type": "markdown",
   "metadata": {},
   "source": [
    "### 1. Connect to Azure ML Workspace\n",
    "\n",
    "First, connect to your Azure ML workspace. Ensure you have the necessary credentials configured (e.g., via environment variables)."
   ]
  },
  {
   "cell_type": "code",
   "execution_count": 1,
   "metadata": {},
   "outputs": [],
   "source": [
    "# Import necessary packages\n",
    "import os\n",
    "import time\n",
    "import json\n",
    "from urllib.request import Request, urlopen\n",
    "from urllib.error import HTTPError\n",
    "from azure.identity import DefaultAzureCredential\n",
    "from azure.ai.ml import MLClient\n",
    "from azure.ai.ml.entities import (\n",
    "    ManagedOnlineEndpoint,\n",
    "    ManagedOnlineDeployment,\n",
    ")"
   ]
  },
  {
   "cell_type": "code",
   "execution_count": 2,
   "metadata": {},
   "outputs": [],
   "source": [
    "# Retrive Azure ML workspace details\n",
    "subscription_id = os.getenv(\"AZUREML_SUBSCRIPTION_ID\")\n",
    "resource_group = os.getenv(\"AZUREML_RESOURCE_GROUP\")\n",
    "workspace_name = os.getenv(\"AZUREML_WORKSPACE_NAME\")"
   ]
  },
  {
   "cell_type": "code",
   "execution_count": 3,
   "metadata": {},
   "outputs": [
    {
     "name": "stdout",
     "output_type": "stream",
     "text": [
      "Connected to workspace: laziz_AML_SW\n"
     ]
    }
   ],
   "source": [
    "# Authenticate and create MLClient\n",
    "try:\n",
    "    credential = DefaultAzureCredential()\n",
    "    ml_client = MLClient(credential, subscription_id, resource_group, workspace_name)\n",
    "    print(f\"Connected to workspace: {workspace_name}\")\n",
    "except Exception as ex:\n",
    "    print(\"Could not connect to Azure ML. Please check your credentials and workspace details.\")\n",
    "    print(ex)"
   ]
  },
  {
   "cell_type": "markdown",
   "metadata": {},
   "source": [
    "### 2. Find BGE Reranker Model in Hugging Face Registry\n",
    "\n",
    "We will use the model directly from the Hugging Face registry within Azure ML."
   ]
  },
  {
   "cell_type": "code",
   "execution_count": 4,
   "metadata": {},
   "outputs": [],
   "source": [
    "# Define model details\n",
    "registry_name = \"HuggingFace\"\n",
    "model_name = \"baai-bge-reranker-v2-m3\""
   ]
  },
  {
   "cell_type": "code",
   "execution_count": 5,
   "metadata": {},
   "outputs": [
    {
     "name": "stdout",
     "output_type": "stream",
     "text": [
      "Using model ID: azureml://registries/HuggingFace/models/baai-bge-reranker-v2-m3/labels/latest\n"
     ]
    }
   ],
   "source": [
    "# Construct model ID for Azure ML deployment\n",
    "model_id = f\"azureml://registries/{registry_name}/models/{model_name}/labels/latest\"\n",
    "\n",
    "print(f\"Using model ID: {model_id}\")"
   ]
  },
  {
   "cell_type": "markdown",
   "metadata": {},
   "source": [
    "### 3. Prepare Deployment Assets\n",
    "\n",
    "For deploying a custom model or running inference, you typically need a scoring script and an environment. For Hugging Face models from the registry, Azure ML auto-provides the environment and scoring script. However, if customisation is needed, you can define them here."
   ]
  },
  {
   "cell_type": "code",
   "execution_count": 6,
   "metadata": {},
   "outputs": [],
   "source": [
    "# If you needed a custom environment or scoring script, you define them here:\n",
    "# env = Environment(\n",
    "#     image = \"mcr.microsoft.com/azureml/openmpi4.1.0-ubuntu20.04:latest\",\n",
    "#     conda_file = \"./conda_env.yml\"\n",
    "# )\n",
    "# code_config = CodeConfiguration(\n",
    "#     code = \"./\", # Directory containing your scoring script\n",
    "#     scoring_script = \"score.py\"\n",
    "# )"
   ]
  },
  {
   "cell_type": "markdown",
   "metadata": {},
   "source": [
    "### 4. Deploy BGE Model to Online Endpoint\n",
    "\n",
    "Deploy the model to a managed online endpoint."
   ]
  },
  {
   "cell_type": "code",
   "execution_count": 7,
   "metadata": {},
   "outputs": [],
   "source": [
    "# Define unique endpoint name\n",
    "endpoint_name = \"bge-reranker-ep-\" + str(int(time.time()))"
   ]
  },
  {
   "cell_type": "code",
   "execution_count": 8,
   "metadata": {},
   "outputs": [
    {
     "name": "stdout",
     "output_type": "stream",
     "text": [
      "Creating endpoint: bge-reranker-ep-1748948005\n",
      "Endpoint bge-reranker-ep-1748948005 created.\n"
     ]
    }
   ],
   "source": [
    "# Create online endpoint\n",
    "print(f\"Creating endpoint: {endpoint_name}\")\n",
    "endpoint = ManagedOnlineEndpoint(\n",
    "    name = endpoint_name,\n",
    "    description = \"Online endpoint for BGE Reranker v2 m3 model\"\n",
    ")\n",
    "ml_client.begin_create_or_update(endpoint).wait()\n",
    "print(f\"Endpoint {endpoint_name} created.\")"
   ]
  },
  {
   "cell_type": "code",
   "execution_count": 9,
   "metadata": {},
   "outputs": [
    {
     "name": "stderr",
     "output_type": "stream",
     "text": [
      "Check: endpoint bge-reranker-ep-1748948005 exists\n"
     ]
    },
    {
     "name": "stdout",
     "output_type": "stream",
     "text": [
      "Creating deployment: reranker-deployment on instance type Standard_NC4as_T4_v3\n",
      "..................................................................................................................Deployment reranker-deployment created.\n"
     ]
    }
   ],
   "source": [
    "# Create the online deployment\n",
    "deployment_name = \"reranker-deployment\"\n",
    "instance_type = \"Standard_NC4as_T4_v3\"\n",
    "instance_count = 1\n",
    "\n",
    "print(f\"Creating deployment: {deployment_name} on instance type {instance_type}\")\n",
    "deployment = ManagedOnlineDeployment(\n",
    "    name = deployment_name,\n",
    "    endpoint_name = endpoint_name,\n",
    "    model = model_id,\n",
    "    instance_type = instance_type,\n",
    "    instance_count = instance_count,\n",
    "    # If using custom code/environment, uncomment and configure these:\n",
    "    # environment = env,\n",
    "    # code_configuration = code_config\n",
    ")\n",
    "\n",
    "ml_client.online_deployments.begin_create_or_update(deployment).wait()\n",
    "print(f\"Deployment {deployment_name} created.\")"
   ]
  },
  {
   "cell_type": "code",
   "execution_count": 10,
   "metadata": {},
   "outputs": [
    {
     "name": "stdout",
     "output_type": "stream",
     "text": [
      "Traffic assigned to deployment reranker-deployment.\n"
     ]
    }
   ],
   "source": [
    "# Set 100% traffic to the new deployment\n",
    "endpoint.traffic = {deployment_name: 100}\n",
    "ml_client.begin_create_or_update(endpoint).result()\n",
    "print(f\"Traffic assigned to deployment {deployment_name}.\")"
   ]
  },
  {
   "cell_type": "markdown",
   "metadata": {},
   "source": [
    "### 5. Test the Deployed Model\n",
    "\n",
    "Send sample data to the deployed endpoint to test its functionality."
   ]
  },
  {
   "cell_type": "code",
   "execution_count": 11,
   "metadata": {},
   "outputs": [],
   "source": [
    "# Input data\n",
    "data = {\n",
    "    \"query\": \"What is Deep Learning?\",\n",
    "    \"texts\": [\n",
    "        \"Deep learning is a subset of machine learning that uses neural networks with multiple layers to model and understand complex patterns in data.\",\n",
    "        \"Machine learning is a method of data analysis that automates analytical model building using algorithms that iteratively learn from data.\",\n",
    "        \"Python is a high-level programming language widely used for web development and data science applications.\",\n",
    "        \"Artificial intelligence is the simulation of human intelligence processes by machines, especially computer systems.\"\n",
    "    ]\n",
    "}"
   ]
  },
  {
   "cell_type": "code",
   "execution_count": 12,
   "metadata": {},
   "outputs": [],
   "source": [
    "# Helper function to process results\n",
    "def process_reranker_results(original_data, reranker_response):\n",
    "    \"\"\"\n",
    "    Process reranker results and combine with original texts\n",
    "    \n",
    "    Args:\n",
    "        original_data (dict): Original query and texts\n",
    "        reranker_response (bytes): Response from BGE reranker endpoint\n",
    "    \n",
    "    Returns:\n",
    "        list: Ranked results with texts and scores\n",
    "    \"\"\"\n",
    "    # Parse the reranker response\n",
    "    scores = json.loads(reranker_response.decode('utf-8'))\n",
    "    \n",
    "    # Combine texts with their scores\n",
    "    ranked_results = []\n",
    "    for score_data in scores:\n",
    "        index = score_data['index']\n",
    "        score = score_data['score']\n",
    "        text = original_data['texts'][index]\n",
    "        \n",
    "        ranked_results.append({\n",
    "            'text': text,\n",
    "            'score': score,\n",
    "            'original_index': index\n",
    "        })\n",
    "    \n",
    "    # Sort by score in descending order (highest relevance first)\n",
    "    ranked_results.sort(key=lambda x: x['score'], reverse=True)\n",
    "    \n",
    "    return ranked_results"
   ]
  },
  {
   "cell_type": "code",
   "execution_count": 13,
   "metadata": {},
   "outputs": [],
   "source": [
    "# Helper function to display results\n",
    "def display_ranked_results(query, ranked_results):\n",
    "    \"\"\"\n",
    "    Display the ranked results in a readable format\n",
    "    \n",
    "    Args:\n",
    "        query (str): Original query\n",
    "        ranked_results (list): Ranked results with scores\n",
    "    \"\"\"\n",
    "    print(f\"Query: {query}\")\n",
    "    print(\"=\" * 80)\n",
    "    print(f\"{'Rank':<4} {'Score':<10} {'Text'}\")\n",
    "    print(\"=\" * 80)\n",
    "    \n",
    "    for rank, result in enumerate(ranked_results, 1):\n",
    "        score = f\"{result['score']:.6f}\"\n",
    "        text = result['text'][:70] + \"...\" if len(result['text']) > 70 else result['text']\n",
    "        print(f\"{rank:<4} {score:<10} {text}\")\n",
    "    \n",
    "    print(\"\\n\" + \"=\" * 80)\n",
    "    print(\"Full ranked results:\")\n",
    "    print(\"=\" * 80)\n",
    "    \n",
    "    for rank, result in enumerate(ranked_results, 1):\n",
    "        print(f\"\\nRank {rank} (Score: {result['score']:.6f}):\")\n",
    "        print(f\"Original Index: {result['original_index']}\")\n",
    "        print(f\"Text: {result['text']}\")"
   ]
  },
  {
   "cell_type": "code",
   "execution_count": 14,
   "metadata": {},
   "outputs": [],
   "source": [
    "# Define API request body\n",
    "body = str.encode(json.dumps(data))\n",
    "\n",
    "# Retrieve the scoring URI and primary key from the deployed endpoint\n",
    "url = ml_client.online_endpoints.get(name=endpoint_name).scoring_uri\n",
    "url = url.removesuffix('/embed')\n",
    "api_key = ml_client.online_endpoints.get_keys(name=endpoint.name).primary_key\n",
    "if not api_key:\n",
    "    raise Exception(\"A key should be provided to invoke the endpoint\")\n",
    "\n",
    "# Set up headers for the request\n",
    "headers = {\n",
    "    \"Content-Type\": \"application/json\",\n",
    "    \"Accept\": \"application/json\",\n",
    "    \"Authorization\":(\n",
    "        \"Bearer \" + api_key\n",
    "    )\n",
    "}"
   ]
  },
  {
   "cell_type": "code",
   "execution_count": 15,
   "metadata": {},
   "outputs": [
    {
     "name": "stdout",
     "output_type": "stream",
     "text": [
      "Raw API Response:\n",
      "b'[{\"index\":0,\"score\":0.9998785},{\"index\":1,\"score\":0.01374232},{\"index\":3,\"score\":0.010944578},{\"index\":2,\"score\":0.00014202364}]'\n",
      "\n",
      "================================================================================\n",
      "PROCESSED RERANKING RESULTS:\n",
      "================================================================================\n",
      "Query: What is Deep Learning?\n",
      "================================================================================\n",
      "Rank Score      Text\n",
      "================================================================================\n",
      "1    0.999879   Deep learning is a subset of machine learning that uses neural network...\n",
      "2    0.013742   Machine learning is a method of data analysis that automates analytica...\n",
      "3    0.010945   Artificial intelligence is the simulation of human intelligence proces...\n",
      "4    0.000142   Python is a high-level programming language widely used for web develo...\n",
      "\n",
      "================================================================================\n",
      "Full ranked results:\n",
      "================================================================================\n",
      "\n",
      "Rank 1 (Score: 0.999879):\n",
      "Original Index: 0\n",
      "Text: Deep learning is a subset of machine learning that uses neural networks with multiple layers to model and understand complex patterns in data.\n",
      "\n",
      "Rank 2 (Score: 0.013742):\n",
      "Original Index: 1\n",
      "Text: Machine learning is a method of data analysis that automates analytical model building using algorithms that iteratively learn from data.\n",
      "\n",
      "Rank 3 (Score: 0.010945):\n",
      "Original Index: 3\n",
      "Text: Artificial intelligence is the simulation of human intelligence processes by machines, especially computer systems.\n",
      "\n",
      "Rank 4 (Score: 0.000142):\n",
      "Original Index: 2\n",
      "Text: Python is a high-level programming language widely used for web development and data science applications.\n"
     ]
    }
   ],
   "source": [
    "# Submit API request\n",
    "req = Request(url, body, headers)\n",
    "\n",
    "try:\n",
    "    response = urlopen(req)\n",
    "    result = response.read()\n",
    "    print(\"Raw API Response:\")\n",
    "    print(result)\n",
    "    \n",
    "    # Process and display ranked results\n",
    "    print(\"\\n\" + \"=\"*80)\n",
    "    print(\"PROCESSED RERANKING RESULTS:\")\n",
    "    print(\"=\"*80)\n",
    "    \n",
    "    ranked_results = process_reranker_results(data, result)\n",
    "    display_ranked_results(data['query'], ranked_results)\n",
    "    \n",
    "except HTTPError as error:\n",
    "    print(\"The request failed with status code: \" + str(error.code))\n",
    "    print(error.info())\n",
    "    print(error.read().decode(\"utf8\", 'ignore'))"
   ]
  },
  {
   "cell_type": "markdown",
   "metadata": {},
   "source": [
    "### 6. Clean up Resources (Optional)\n",
    "\n",
    "If you no longer need the endpoint and deployment, you can delete them to avoid incurring costs."
   ]
  },
  {
   "cell_type": "code",
   "execution_count": 16,
   "metadata": {},
   "outputs": [
    {
     "name": "stdout",
     "output_type": "stream",
     "text": [
      "Deleting endpoint bge-reranker-ep-1748948005...\n",
      "............................................................................Endpoint bge-reranker-ep-1748948005 deleted.\n"
     ]
    }
   ],
   "source": [
    "# Clean up resources\n",
    "print(f\"Deleting endpoint {endpoint_name}...\")\n",
    "ml_client.online_endpoints.begin_delete(name=endpoint_name).wait()\n",
    "print(f\"Endpoint {endpoint_name} deleted.\")"
   ]
  }
 ],
 "metadata": {
  "kernelspec": {
   "display_name": "Python 3",
   "language": "python",
   "name": "python3"
  },
  "language_info": {
   "codemirror_mode": {
    "name": "ipython",
    "version": 3
   },
   "file_extension": ".py",
   "mimetype": "text/x-python",
   "name": "python",
   "nbconvert_exporter": "python",
   "pygments_lexer": "ipython3",
   "version": "3.11.9"
  }
 },
 "nbformat": 4,
 "nbformat_minor": 4
}
