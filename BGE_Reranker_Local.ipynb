{
 "cells": [
  {
   "cell_type": "markdown",
   "metadata": {},
   "source": [
    "# BGE Reranker v2 m3 - Local Deployment and Testing\n",
    "\n",
    "This notebook demonstrates how to deploy and test the BGE Reranker v2 m3 model from HuggingFace locally. This is a powerful reranking model that can be used to improve search results by reordering candidate documents based on their relevance to a query."
   ]
  },
  {
   "cell_type": "markdown",
   "metadata": {},
   "source": [
    "## 1. Installation\n",
    "\n",
    "First, let's install the necessary packages:"
   ]
  },
  {
   "cell_type": "code",
   "execution_count": null,
   "metadata": {},
   "outputs": [],
   "source": [
    "# UNCOMMENT THE NEXT LINE TO INSTALL DEPENDENCIES\n",
    "\n",
    "# !pip install transformers torch"
   ]
  },
  {
   "cell_type": "markdown",
   "metadata": {},
   "source": [
    "## 2. Loading the BGE Reranker Model\n",
    "\n",
    "Now, let's import the necessary libraries and load the BGE Reranker v2 m3 model from HuggingFace:"
   ]
  },
  {
   "cell_type": "code",
   "execution_count": 2,
   "metadata": {},
   "outputs": [
    {
     "name": "stdout",
     "output_type": "stream",
     "text": [
      "Using device: cpu\n"
     ]
    }
   ],
   "source": [
    "import torch\n",
    "from transformers import AutoModelForSequenceClassification, AutoTokenizer\n",
    "\n",
    "# Set model name\n",
    "model_name = \"BAAI/bge-reranker-v2-m3\"\n",
    "\n",
    "# Load model and tokenizer\n",
    "tokenizer = AutoTokenizer.from_pretrained(model_name)\n",
    "model = AutoModelForSequenceClassification.from_pretrained(model_name)\n",
    "\n",
    "# Check if GPU is available\n",
    "device = torch.device(\"cuda\" if torch.cuda.is_available() else \"cpu\")\n",
    "print(f\"Using device: {device}\")\n",
    "\n",
    "# Move model to the appropriate device\n",
    "model = model.to(device)"
   ]
  },
  {
   "cell_type": "markdown",
   "metadata": {},
   "source": [
    "## 3. Creating a Reranking Function\n",
    "\n",
    "Now we'll create a function to rerank documents based on a query:"
   ]
  },
  {
   "cell_type": "code",
   "execution_count": 3,
   "metadata": {},
   "outputs": [],
   "source": [
    "def rerank(query, documents, model, tokenizer, device, top_n=None):\n",
    "    \"\"\"Rerank documents based on their relevance to a query.\n",
    "    \n",
    "    Args:\n",
    "        query (str): The query string\n",
    "        documents (list): List of document strings to rerank\n",
    "        model: The reranker model\n",
    "        tokenizer: The tokenizer for the model\n",
    "        device: The device to run inference on\n",
    "        top_n (int, optional): Number of top documents to return. If None, return all documents.\n",
    "    \n",
    "    Returns:\n",
    "        list: List of (document, score) pairs sorted by relevance score in descending order\n",
    "    \"\"\"\n",
    "    # Prepare pairs of (query, document)\n",
    "    pairs = []\n",
    "    for doc in documents:\n",
    "        pairs.append([query, doc])\n",
    "    \n",
    "    # Tokenize the pairs\n",
    "    with torch.no_grad():\n",
    "        inputs = tokenizer(\n",
    "            pairs,\n",
    "            padding=True,\n",
    "            truncation=True,\n",
    "            return_tensors=\"pt\",\n",
    "            max_length=512\n",
    "        ).to(device)\n",
    "        \n",
    "        # Get scores from the model\n",
    "        scores = model(**inputs).logits.flatten()\n",
    "    \n",
    "    # Convert scores to list and create (document, score) pairs\n",
    "    scores = scores.cpu().tolist()\n",
    "    doc_score_pairs = list(zip(documents, scores))\n",
    "    \n",
    "    # Sort by score in descending order\n",
    "    ranked_results = sorted(doc_score_pairs, key=lambda x: x[1], reverse=True)\n",
    "    \n",
    "    # Return top_n results if specified\n",
    "    if top_n is not None:\n",
    "        return ranked_results[:top_n]\n",
    "    return ranked_results"
   ]
  },
  {
   "cell_type": "markdown",
   "metadata": {},
   "source": [
    "## 4. Testing with a Simple Example\n",
    "\n",
    "Let's test our reranker with a simple example:"
   ]
  },
  {
   "cell_type": "code",
   "execution_count": 4,
   "metadata": {},
   "outputs": [
    {
     "name": "stdout",
     "output_type": "stream",
     "text": [
      "Query: What are the benefits of regular exercise?\n",
      "\n",
      "Ranked Documents (most to least relevant):\n",
      "\n",
      "1. Score: 6.7963\n",
      "   Document: Regular exercise improves cardiovascular health, boosts mood, and helps maintain a healthy weight.\n",
      "\n",
      "2. Score: 1.7936\n",
      "   Document: Exercise has been shown to reduce the risk of chronic diseases such as diabetes and heart disease.\n",
      "\n",
      "3. Score: 0.7743\n",
      "   Document: Physical activity strengthens muscles and bones, and can improve sleep quality.\n",
      "\n",
      "4. Score: -9.6014\n",
      "   Document: Coffee contains caffeine which can improve alertness and concentration.\n",
      "\n",
      "5. Score: -11.0410\n",
      "   Document: The capital of France is Paris, which is known for its beautiful architecture.\n"
     ]
    }
   ],
   "source": [
    "# Define a query and some documents\n",
    "query = \"What are the benefits of regular exercise?\"\n",
    "\n",
    "documents = [\n",
    "    \"Regular exercise improves cardiovascular health, boosts mood, and helps maintain a healthy weight.\",\n",
    "    \"The capital of France is Paris, which is known for its beautiful architecture.\",\n",
    "    \"Exercise has been shown to reduce the risk of chronic diseases such as diabetes and heart disease.\",\n",
    "    \"Coffee contains caffeine which can improve alertness and concentration.\",\n",
    "    \"Physical activity strengthens muscles and bones, and can improve sleep quality.\"\n",
    "]\n",
    "\n",
    "# Rerank the documents\n",
    "ranked_results = rerank(query, documents, model, tokenizer, device)\n",
    "\n",
    "# Display the ranked results\n",
    "print(f\"Query: {query}\\n\")\n",
    "print(\"Ranked Documents (most to least relevant):\")\n",
    "for i, (doc, score) in enumerate(ranked_results):\n",
    "    print(f\"\\n{i+1}. Score: {score:.4f}\")\n",
    "    print(f\"   Document: {doc}\")"
   ]
  },
  {
   "cell_type": "markdown",
   "metadata": {},
   "source": [
    "## 5. Testing with a More Complex Example\n",
    "\n",
    "Now let's test with a more complex example to demonstrate the reranker's capabilities:"
   ]
  },
  {
   "cell_type": "code",
   "execution_count": 5,
   "metadata": {},
   "outputs": [
    {
     "name": "stdout",
     "output_type": "stream",
     "text": [
      "Query: What programming language is best for machine learning?\n",
      "\n",
      "Ranked Documents (most to least relevant):\n",
      "\n",
      "1. Score: 3.1123\n",
      "   Document: R is a programming language specifically designed for statistical computing, making it popular for data analysis and machine learning.\n",
      "\n",
      "2. Score: 2.6278\n",
      "   Document: Python is widely used in machine learning due to its simplicity and the availability of libraries like TensorFlow and PyTorch.\n",
      "\n",
      "3. Score: 2.2042\n",
      "   Document: Machine learning engineers often prefer Python because of its extensive ecosystem of ML libraries and frameworks.\n",
      "\n",
      "4. Score: 2.1942\n",
      "   Document: C++ can be used for machine learning when performance is critical, especially in production environments.\n",
      "\n",
      "5. Score: -2.4278\n",
      "   Document: Java is an object-oriented programming language that's been around since the 1990s.\n",
      "\n",
      "6. Score: -2.5449\n",
      "   Document: The best programming language for a project depends on specific requirements and constraints.\n",
      "\n",
      "7. Score: -4.0099\n",
      "   Document: JavaScript is primarily used for web development and creating interactive web pages.\n"
     ]
    }
   ],
   "source": [
    "# Define a more specific query and some potentially relevant documents\n",
    "query = \"What programming language is best for machine learning?\"\n",
    "\n",
    "documents = [\n",
    "    \"Python is widely used in machine learning due to its simplicity and the availability of libraries like TensorFlow and PyTorch.\",\n",
    "    \"Java is an object-oriented programming language that's been around since the 1990s.\",\n",
    "    \"R is a programming language specifically designed for statistical computing, making it popular for data analysis and machine learning.\",\n",
    "    \"JavaScript is primarily used for web development and creating interactive web pages.\",\n",
    "    \"Machine learning engineers often prefer Python because of its extensive ecosystem of ML libraries and frameworks.\",\n",
    "    \"C++ can be used for machine learning when performance is critical, especially in production environments.\",\n",
    "    \"The best programming language for a project depends on specific requirements and constraints.\"\n",
    "]\n",
    "\n",
    "# Rerank the documents\n",
    "ranked_results = rerank(query, documents, model, tokenizer, device)\n",
    "\n",
    "# Display the ranked results\n",
    "print(f\"Query: {query}\\n\")\n",
    "print(\"Ranked Documents (most to least relevant):\")\n",
    "for i, (doc, score) in enumerate(ranked_results):\n",
    "    print(f\"\\n{i+1}. Score: {score:.4f}\")\n",
    "    print(f\"   Document: {doc}\")"
   ]
  }
 ],
 "metadata": {
  "kernelspec": {
   "display_name": "Python 3",
   "language": "python",
   "name": "python3"
  },
  "language_info": {
   "codemirror_mode": {
    "name": "ipython",
    "version": 3
   },
   "file_extension": ".py",
   "mimetype": "text/x-python",
   "name": "python",
   "nbconvert_exporter": "python",
   "pygments_lexer": "ipython3",
   "version": "3.11.9"
  }
 },
 "nbformat": 4,
 "nbformat_minor": 4
}
